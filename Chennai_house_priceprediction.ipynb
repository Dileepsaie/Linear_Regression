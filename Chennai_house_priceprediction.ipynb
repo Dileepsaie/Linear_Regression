{
 "cells": [
  {
   "cell_type": "code",
   "execution_count": 1,
   "metadata": {
    "id": "o7rsIaAdnYxT"
   },
   "outputs": [],
   "source": [
    "import numpy as np\n",
    "import pandas as pd\n",
    "import matplotlib.pyplot as plt\n",
    "%matplotlib inline\n",
    "\n"
   ]
  },
  {
   "cell_type": "code",
   "execution_count": 2,
   "metadata": {
    "id": "XPNOqT6mrNKb"
   },
   "outputs": [],
   "source": [
    "path='Chennai_house_univariate.csv'\n"
   ]
  },
  {
   "cell_type": "code",
   "execution_count": 3,
   "metadata": {
    "colab": {
     "base_uri": "https://localhost:8080/",
     "height": 203
    },
    "id": "Q9_wCbMpsWs2",
    "outputId": "ce92e896-839c-46cf-808c-76e961f59858"
   },
   "outputs": [
    {
     "data": {
      "text/html": [
       "<div>\n",
       "<style scoped>\n",
       "    .dataframe tbody tr th:only-of-type {\n",
       "        vertical-align: middle;\n",
       "    }\n",
       "\n",
       "    .dataframe tbody tr th {\n",
       "        vertical-align: top;\n",
       "    }\n",
       "\n",
       "    .dataframe thead th {\n",
       "        text-align: right;\n",
       "    }\n",
       "</style>\n",
       "<table border=\"1\" class=\"dataframe\">\n",
       "  <thead>\n",
       "    <tr style=\"text-align: right;\">\n",
       "      <th></th>\n",
       "      <th>Size</th>\n",
       "      <th>Price</th>\n",
       "    </tr>\n",
       "  </thead>\n",
       "  <tbody>\n",
       "    <tr>\n",
       "      <th>0</th>\n",
       "      <td>721.82</td>\n",
       "      <td>1480000</td>\n",
       "    </tr>\n",
       "    <tr>\n",
       "      <th>1</th>\n",
       "      <td>543.69</td>\n",
       "      <td>830000</td>\n",
       "    </tr>\n",
       "    <tr>\n",
       "      <th>2</th>\n",
       "      <td>851.72</td>\n",
       "      <td>2060000</td>\n",
       "    </tr>\n",
       "    <tr>\n",
       "      <th>3</th>\n",
       "      <td>931.02</td>\n",
       "      <td>2410000</td>\n",
       "    </tr>\n",
       "    <tr>\n",
       "      <th>4</th>\n",
       "      <td>552.77</td>\n",
       "      <td>860000</td>\n",
       "    </tr>\n",
       "  </tbody>\n",
       "</table>\n",
       "</div>"
      ],
      "text/plain": [
       "     Size    Price\n",
       "0  721.82  1480000\n",
       "1  543.69   830000\n",
       "2  851.72  2060000\n",
       "3  931.02  2410000\n",
       "4  552.77   860000"
      ]
     },
     "execution_count": 3,
     "metadata": {},
     "output_type": "execute_result"
    }
   ],
   "source": [
    "raw_data=pd.read_csv(path)\n",
    "raw_data.head()"
   ]
  },
  {
   "cell_type": "code",
   "execution_count": 4,
   "metadata": {
    "colab": {
     "base_uri": "https://localhost:8080/",
     "height": 203
    },
    "id": "sc_OMThso8e7",
    "outputId": "f81b323e-9cd5-4318-c3f6-51b30f1e5347"
   },
   "outputs": [
    {
     "data": {
      "text/html": [
       "<div>\n",
       "<style scoped>\n",
       "    .dataframe tbody tr th:only-of-type {\n",
       "        vertical-align: middle;\n",
       "    }\n",
       "\n",
       "    .dataframe tbody tr th {\n",
       "        vertical-align: top;\n",
       "    }\n",
       "\n",
       "    .dataframe thead th {\n",
       "        text-align: right;\n",
       "    }\n",
       "</style>\n",
       "<table border=\"1\" class=\"dataframe\">\n",
       "  <thead>\n",
       "    <tr style=\"text-align: right;\">\n",
       "      <th></th>\n",
       "      <th>Size</th>\n",
       "      <th>Price</th>\n",
       "    </tr>\n",
       "  </thead>\n",
       "  <tbody>\n",
       "    <tr>\n",
       "      <th>92</th>\n",
       "      <td>570.77</td>\n",
       "      <td>930000</td>\n",
       "    </tr>\n",
       "    <tr>\n",
       "      <th>93</th>\n",
       "      <td>552.04</td>\n",
       "      <td>860000</td>\n",
       "    </tr>\n",
       "    <tr>\n",
       "      <th>94</th>\n",
       "      <td>513.01</td>\n",
       "      <td>700000</td>\n",
       "    </tr>\n",
       "    <tr>\n",
       "      <th>95</th>\n",
       "      <td>747.64</td>\n",
       "      <td>1580000</td>\n",
       "    </tr>\n",
       "    <tr>\n",
       "      <th>96</th>\n",
       "      <td>2034.10</td>\n",
       "      <td>7710000</td>\n",
       "    </tr>\n",
       "  </tbody>\n",
       "</table>\n",
       "</div>"
      ],
      "text/plain": [
       "       Size    Price\n",
       "92   570.77   930000\n",
       "93   552.04   860000\n",
       "94   513.01   700000\n",
       "95   747.64  1580000\n",
       "96  2034.10  7710000"
      ]
     },
     "execution_count": 4,
     "metadata": {},
     "output_type": "execute_result"
    }
   ],
   "source": [
    "raw_data.tail()"
   ]
  },
  {
   "cell_type": "code",
   "execution_count": 5,
   "metadata": {
    "colab": {
     "base_uri": "https://localhost:8080/",
     "height": 362
    },
    "id": "PW3zNcRio-9g",
    "outputId": "ef0fe6e7-f269-428d-8a16-7c004e71d4a9"
   },
   "outputs": [
    {
     "data": {
      "text/plain": [
       "<AxesSubplot:xlabel='Size', ylabel='Price'>"
      ]
     },
     "execution_count": 5,
     "metadata": {},
     "output_type": "execute_result"
    },
    {
     "data": {
      "image/png": "[encoded data removed]",
      "text/plain": [
       "<Figure size 1000x500 with 1 Axes>"
      ]
     },
     "metadata": {},
     "output_type": "display_data"
    }
   ],
   "source": [
    "raw_data.plot(kind='scatter',x='Size',y='Price',figsize=(10,5))"
   ]
  },
  {
   "cell_type": "code",
   "execution_count": 6,
   "metadata": {
    "colab": {
     "base_uri": "https://localhost:8080/",
     "height": 203
    },
    "id": "ImuzruMdrixp",
    "outputId": "f06f5e0a-0de3-4d6d-d200-c3ae4e20e2d2"
   },
   "outputs": [
    {
     "data": {
      "text/html": [
       "<div>\n",
       "<style scoped>\n",
       "    .dataframe tbody tr th:only-of-type {\n",
       "        vertical-align: middle;\n",
       "    }\n",
       "\n",
       "    .dataframe tbody tr th {\n",
       "        vertical-align: top;\n",
       "    }\n",
       "\n",
       "    .dataframe thead th {\n",
       "        text-align: right;\n",
       "    }\n",
       "</style>\n",
       "<table border=\"1\" class=\"dataframe\">\n",
       "  <thead>\n",
       "    <tr style=\"text-align: right;\">\n",
       "      <th></th>\n",
       "      <th>Size</th>\n",
       "      <th>Price</th>\n",
       "    </tr>\n",
       "  </thead>\n",
       "  <tbody>\n",
       "    <tr>\n",
       "      <th>0</th>\n",
       "      <td>-0.054820</td>\n",
       "      <td>-0.063773</td>\n",
       "    </tr>\n",
       "    <tr>\n",
       "      <th>1</th>\n",
       "      <td>-0.158528</td>\n",
       "      <td>-0.144922</td>\n",
       "    </tr>\n",
       "    <tr>\n",
       "      <th>2</th>\n",
       "      <td>0.020808</td>\n",
       "      <td>0.008636</td>\n",
       "    </tr>\n",
       "    <tr>\n",
       "      <th>3</th>\n",
       "      <td>0.066977</td>\n",
       "      <td>0.052331</td>\n",
       "    </tr>\n",
       "    <tr>\n",
       "      <th>4</th>\n",
       "      <td>-0.153242</td>\n",
       "      <td>-0.141177</td>\n",
       "    </tr>\n",
       "  </tbody>\n",
       "</table>\n",
       "</div>"
      ],
      "text/plain": [
       "       Size     Price\n",
       "0 -0.054820 -0.063773\n",
       "1 -0.158528 -0.144922\n",
       "2  0.020808  0.008636\n",
       "3  0.066977  0.052331\n",
       "4 -0.153242 -0.141177"
      ]
     },
     "execution_count": 6,
     "metadata": {},
     "output_type": "execute_result"
    }
   ],
   "source": [
    "data=(raw_data-raw_data.mean())/(raw_data.max()-raw_data.min())\n",
    "data.head()"
   ]
  },
  {
   "cell_type": "code",
   "execution_count": 7,
   "metadata": {
    "colab": {
     "base_uri": "https://localhost:8080/",
     "height": 351
    },
    "id": "xAsb8tEax8W7",
    "outputId": "cc969789-6aa2-4e14-fc8b-43db2f7ea8f5"
   },
   "outputs": [
    {
     "data": {
      "text/plain": [
       "<AxesSubplot:xlabel='Size', ylabel='Price'>"
      ]
     },
     "execution_count": 7,
     "metadata": {},
     "output_type": "execute_result"
    },
    {
     "data": {
      "image/png": "[encoded data removed]",
      "text/plain": [
       "<Figure size 1000x500 with 1 Axes>"
      ]
     },
     "metadata": {},
     "output_type": "display_data"
    }
   ],
   "source": [
    "data.plot(kind='scatter',x='Size',y='Price',figsize=(10,5))"
   ]
  },
  {
   "cell_type": "code",
   "execution_count": 8,
   "metadata": {
    "colab": {
     "base_uri": "https://localhost:8080/"
    },
    "id": "o7Jf5bE5yOgZ",
    "outputId": "ad580cfd-a8eb-4709-ede0-182a415e5925"
   },
   "outputs": [
    {
     "data": {
      "text/plain": [
       "(97, 2)"
      ]
     },
     "execution_count": 8,
     "metadata": {},
     "output_type": "execute_result"
    }
   ],
   "source": [
    "data.shape"
   ]
  },
  {
   "cell_type": "code",
   "execution_count": 9,
   "metadata": {
    "colab": {
     "base_uri": "https://localhost:8080/"
    },
    "id": "O4uQeFC04KLj",
    "outputId": "20fe7bfc-2467-491c-b20f-a97ff10523c5"
   },
   "outputs": [
    {
     "data": {
      "text/plain": [
       "97"
      ]
     },
     "execution_count": 9,
     "metadata": {},
     "output_type": "execute_result"
    }
   ],
   "source": [
    "data.shape[0]"
   ]
  },
  {
   "cell_type": "code",
   "execution_count": 10,
   "metadata": {
    "colab": {
     "base_uri": "https://localhost:8080/"
    },
    "id": "rnnPADOb4PY-",
    "outputId": "581439c7-9ef9-48ff-a0d6-78ff9637824d"
   },
   "outputs": [
    {
     "data": {
      "text/plain": [
       "2"
      ]
     },
     "execution_count": 10,
     "metadata": {},
     "output_type": "execute_result"
    }
   ],
   "source": [
    "data.shape[1]"
   ]
  },
  {
   "cell_type": "code",
   "execution_count": 11,
   "metadata": {
    "id": "1XDJBXx_4R-V"
   },
   "outputs": [],
   "source": [
    "data.insert(0,'ones',1)"
   ]
  },
  {
   "cell_type": "code",
   "execution_count": 12,
   "metadata": {
    "colab": {
     "base_uri": "https://localhost:8080/",
     "height": 203
    },
    "id": "QRQv7DDj7dWS",
    "outputId": "59865c3f-d909-49cd-da33-6554263aa997"
   },
   "outputs": [
    {
     "data": {
      "text/html": [
       "<div>\n",
       "<style scoped>\n",
       "    .dataframe tbody tr th:only-of-type {\n",
       "        vertical-align: middle;\n",
       "    }\n",
       "\n",
       "    .dataframe tbody tr th {\n",
       "        vertical-align: top;\n",
       "    }\n",
       "\n",
       "    .dataframe thead th {\n",
       "        text-align: right;\n",
       "    }\n",
       "</style>\n",
       "<table border=\"1\" class=\"dataframe\">\n",
       "  <thead>\n",
       "    <tr style=\"text-align: right;\">\n",
       "      <th></th>\n",
       "      <th>ones</th>\n",
       "      <th>Size</th>\n",
       "      <th>Price</th>\n",
       "    </tr>\n",
       "  </thead>\n",
       "  <tbody>\n",
       "    <tr>\n",
       "      <th>0</th>\n",
       "      <td>1</td>\n",
       "      <td>-0.054820</td>\n",
       "      <td>-0.063773</td>\n",
       "    </tr>\n",
       "    <tr>\n",
       "      <th>1</th>\n",
       "      <td>1</td>\n",
       "      <td>-0.158528</td>\n",
       "      <td>-0.144922</td>\n",
       "    </tr>\n",
       "    <tr>\n",
       "      <th>2</th>\n",
       "      <td>1</td>\n",
       "      <td>0.020808</td>\n",
       "      <td>0.008636</td>\n",
       "    </tr>\n",
       "    <tr>\n",
       "      <th>3</th>\n",
       "      <td>1</td>\n",
       "      <td>0.066977</td>\n",
       "      <td>0.052331</td>\n",
       "    </tr>\n",
       "    <tr>\n",
       "      <th>4</th>\n",
       "      <td>1</td>\n",
       "      <td>-0.153242</td>\n",
       "      <td>-0.141177</td>\n",
       "    </tr>\n",
       "  </tbody>\n",
       "</table>\n",
       "</div>"
      ],
      "text/plain": [
       "   ones      Size     Price\n",
       "0     1 -0.054820 -0.063773\n",
       "1     1 -0.158528 -0.144922\n",
       "2     1  0.020808  0.008636\n",
       "3     1  0.066977  0.052331\n",
       "4     1 -0.153242 -0.141177"
      ]
     },
     "execution_count": 12,
     "metadata": {},
     "output_type": "execute_result"
    }
   ],
   "source": [
    "data.head()"
   ]
  },
  {
   "cell_type": "code",
   "execution_count": 13,
   "metadata": {
    "id": "nrM8O4NK7g1z"
   },
   "outputs": [],
   "source": [
    "cols=data.shape[1]"
   ]
  },
  {
   "cell_type": "code",
   "execution_count": 14,
   "metadata": {
    "colab": {
     "base_uri": "https://localhost:8080/"
    },
    "id": "2MwZBKZ6--Ew",
    "outputId": "382b7b09-0710-42aa-ccf9-e607cccdb4e3"
   },
   "outputs": [
    {
     "name": "stdout",
     "output_type": "stream",
     "text": [
      "3\n"
     ]
    }
   ],
   "source": [
    "print(cols)"
   ]
  },
  {
   "cell_type": "code",
   "execution_count": 15,
   "metadata": {
    "id": "RbYN5EBI_AFh"
   },
   "outputs": [],
   "source": [
    "x=data.iloc[:,0:cols-1]"
   ]
  },
  {
   "cell_type": "code",
   "execution_count": 16,
   "metadata": {
    "id": "T9K8pH4p_L2R"
   },
   "outputs": [],
   "source": [
    "y=data.iloc[:,cols-1:cols]"
   ]
  },
  {
   "cell_type": "code",
   "execution_count": 17,
   "metadata": {
    "id": "5k9kH43f_ayr"
   },
   "outputs": [],
   "source": [
    "theta=np.matrix([10,10])"
   ]
  },
  {
   "cell_type": "code",
   "execution_count": 18,
   "metadata": {
    "id": "3Xs1lwA6_rv0"
   },
   "outputs": [],
   "source": [
    "x=np.matrix(x)"
   ]
  },
  {
   "cell_type": "code",
   "execution_count": 19,
   "metadata": {
    "id": "olpnQQ6S_woI"
   },
   "outputs": [],
   "source": [
    "y=np.matrix(y)"
   ]
  },
  {
   "cell_type": "code",
   "execution_count": 20,
   "metadata": {
    "colab": {
     "base_uri": "https://localhost:8080/"
    },
    "id": "F65Kb9Mq_zWX",
    "outputId": "adbab791-ce13-4103-bde1-a76f9244ff17"
   },
   "outputs": [
    {
     "data": {
      "text/plain": [
       "((97, 2), (1, 2), (97, 1))"
      ]
     },
     "execution_count": 20,
     "metadata": {},
     "output_type": "execute_result"
    }
   ],
   "source": [
    "x.shape,theta.shape,y.shape"
   ]
  },
  {
   "cell_type": "code",
   "execution_count": 21,
   "metadata": {
    "id": "qV5AqjeM_6ul"
   },
   "outputs": [],
   "source": [
    " def computeError(x,y,theta):\n",
    "   inner=np.power(((x*theta.T)-y),2)\n",
    "   return np.sum(inner)/(2*len(x))\n"
   ]
  },
  {
   "cell_type": "code",
   "execution_count": 22,
   "metadata": {
    "colab": {
     "base_uri": "https://localhost:8080/"
    },
    "id": "LNeaXxM2GWdJ",
    "outputId": "c375d20c-e954-4418-9378-c2e4ce6190e7"
   },
   "outputs": [
    {
     "data": {
      "text/plain": [
       "52.04227733164415"
      ]
     },
     "execution_count": 22,
     "metadata": {},
     "output_type": "execute_result"
    }
   ],
   "source": [
    "computeError(x,y,theta)"
   ]
  },
  {
   "cell_type": "code",
   "execution_count": 23,
   "metadata": {
    "id": "mQOC7U6BlxHR"
   },
   "outputs": [],
   "source": [
    "line_model=(x*theta.T)"
   ]
  },
  {
   "cell_type": "code",
   "execution_count": 24,
   "metadata": {
    "colab": {
     "base_uri": "https://localhost:8080/",
     "height": 421
    },
    "id": "Gbx8dtxpmICZ",
    "outputId": "38d70c53-46d2-4e1e-b0a7-9a8f2f531f9b"
   },
   "outputs": [
    {
     "data": {
      "text/plain": [
       "Text(0.5, 1.0, 'i vs data')"
      ]
     },
     "execution_count": 24,
     "metadata": {},
     "output_type": "execute_result"
    },
    {
     "data": {
      "image/png": "[encoded data removed]",
      "text/plain": [
       "<Figure size 300x600 with 1 Axes>"
      ]
     },
     "metadata": {},
     "output_type": "display_data"
    }
   ],
   "source": [
    "fig,ax=plt.subplots(figsize=(3,6))\n",
    "ax.scatter(data.Size,data.Price,label='training data')\n",
    "ax.plot(data.Size,line_model,'r',label='initial model')\n",
    "ax.legend()\n",
    "ax.set_xlabel('size')\n",
    "ax.set_ylabel('price')\n",
    "ax.set_title('i vs data')"
   ]
  },
  {
   "cell_type": "code",
   "execution_count": 25,
   "metadata": {
    "id": "vDsWH3dRGhdN"
   },
   "outputs": [],
   "source": [
    "learn_rate=1\n",
    "iters=350\n",
    "def gradientDescent(x,y,theta,learn_rate,iters):\n",
    "  temp=np.matrix(np.zeros(theta.shape))\n",
    "  parameters=theta.shape[1]\n",
    "  cost=[]\n",
    "\n",
    "  for i in range(iters):\n",
    "    error=(x*theta.T)-y\n",
    "\n",
    "    for j in range(parameters):\n",
    "      gradient=np.multiply(error,x[:,j])\n",
    "      temp[0,j]=theta[0,j]-((learn_rate/len(x))*np.sum(gradient))\n",
    "    theta= temp\n",
    "    cost_iter=computeError(x,y,theta)\n",
    "    cost.append(cost_iter)\n",
    "  return theta,cost  "
   ]
  },
  {
   "cell_type": "code",
   "execution_count": 26,
   "metadata": {
    "id": "RNudN9SXnlgb"
   },
   "outputs": [],
   "source": [
    "new_theta,cost = gradientDescent(x,y,theta,learn_rate,iters)"
   ]
  },
  {
   "cell_type": "code",
   "execution_count": 27,
   "metadata": {
    "colab": {
     "base_uri": "https://localhost:8080/"
    },
    "id": "E--40x7yphLJ",
    "outputId": "75256596-82ec-4d05-ac6b-8db63f26467d"
   },
   "outputs": [
    {
     "name": "stdout",
     "output_type": "stream",
     "text": [
      "[[1.08733183e-17 9.83386736e-01]]\n"
     ]
    }
   ],
   "source": [
    " print(new_theta)"
   ]
  },
  {
   "cell_type": "code",
   "execution_count": 28,
   "metadata": {
    "colab": {
     "base_uri": "https://localhost:8080/"
    },
    "id": "9qaJvneJp-nt",
    "outputId": "a842b025-a082-4045-fe59-5b56e7a146e3"
   },
   "outputs": [
    {
     "name": "stdout",
     "output_type": "stream",
     "text": [
      "[1.8422310503366268, 1.661780338796969, 1.4990057094345264, 1.352175698413719, 1.219728447753016, 1.1002550915527423, 0.9924847696279504, 0.8952711091336067, 0.8075800303846297, 0.7284787471590407, 0.6571258444784154, 0.5927623283211478, 0.5347035520626775, 0.4823319337627266, 0.43509038683198853, 0.39247639419905106, 0.35403666294337355, 0.31936230253466047, 0.28808447538867227, 0.25987047347362924, 0.2344201792333482, 0.2114628731812942, 0.19075435420733602, 0.1720743419653764, 0.155224133710572, 0.14002449066148953, 0.12631373140403943, 0.11394601205637342, 0.10278977490054146, 0.09272634897871598, 0.0836486877682666, 0.07546023050810237, 0.06807387506399813, 0.06141105140708455, 0.055400885849920325, 0.04997944714997196, 0.04508906646116345, 0.040677723899695616, 0.03669849519892161, 0.03310905256724469, 0.029871214439570973, 0.026950539332940286, 0.024315959486102483, 0.02193945038599547, 0.019795732665816922, 0.017862003203724587, 0.01611769256181204, 0.014544246185193689, 0.013124927033772988, 0.011844637547251638, 0.01068975904958861, 0.009648006884624485, 0.008708299741922037, 0.0078606417828177, 0.007096016312837165, 0.0064062898694487065, 0.005784125704918059, 0.00522290574396594, 0.004716660186077358, 0.004260004003629517, 0.0038480796603570936, 0.003476505440840644, 0.0031413288413893493, 0.002838984526528292, 0.002566256403865641, 0.0023202434139231133, 0.0020983286710297877, 0.0018981516270252566, 0.0017175829616723015, 0.0015547019326837392, 0.0014077759444314853, 0.0012752421180064492, 0.0011556906665865399, 0.0010478498992735152, 0.0009505726938817213, 0.0008628242947872496, 0.000783671306041005, 0.0007122717626633773, 0.0006478661745070412, 0.000589769447419801, 0.0005373635957713965, 0.0004900911688260609, 0.0004474493210359568, 0.0004089844631800851, 0.0003742874374518574, 0.00034298916517183723, 0.00031475672082957487, 0.00028928979069337837, 0.00026631747831760977, 0.00024559542296709834, 0.0002269032003068058, 0.00021004197770741086, 0.00019483239922585968, 0.00018111267776303082, 0.00016873687410443966, 0.00015757334453782524, 0.00014750334053463792, 0.00013841974559997968, 0.00013022593585463777, 0.00012283475222901207, 0.0001161675733359733, 0.00011015347916062862, 0.00010472849667100645, 9.983491932508427e-05, 9.542069323563024e-05, 9.143886346337655e-05, 8.784707454864874e-05, 8.460711996850593e-05, 8.168453572689159e-05, 7.904823375473382e-05, 7.667017122040482e-05, 7.452505223293524e-05, 7.25900587649436e-05, 7.084460793305881e-05, 6.927013305398365e-05, 6.784988614725088e-05, 6.656875978385725e-05, 6.541312638574789e-05, 6.437069326674746e-05, 6.34303718729849e-05, 6.258215983189442e-05, 6.181703455512929e-05, 6.112685726362039e-05, 6.0504286413878666e-05, 5.994269960463909e-05, 5.943612313315356e-05, 5.897916845181026e-05, 5.8566974849155773e-05, 5.819515774560886e-05, 5.7859762053876365e-05, 5.755722010795824e-05, 5.728431371322458e-05, 5.703813991388411e-05, 5.6816080113706555e-05, 5.661577222153041e-05, 5.64350855252622e-05, 5.627209802709811e-05, 5.6125075998877705e-05, 5.599245554009703e-05, 5.587282594240962e-05, 5.576491468366086e-05, 5.566757389183476e-05, 5.557976813492662e-05, 5.550056340686181e-05, 5.542911719229989e-05, 5.536466950464362e-05, 5.5306534801920565e-05, 5.525409469454668e-05, 5.520679136740165e-05, 5.516412164624652e-05, 5.512563164536611e-05, 5.509091193950293e-05, 5.5059593208724664e-05, 5.5031342309900066e-05, 5.5005858732993696e-05, 5.498287140448516e-05, 5.4962135803909886e-05, 5.4943431362849756e-05, 5.4926559118706116e-05, 5.491133959829766e-05, 5.4897610908771215e-05, 5.4885227015517306e-05, 5.487405618877313e-05, 5.4863979602388735e-05, 5.4854890069851244e-05, 5.4846690904122e-05, 5.4839294889158835e-05, 5.4832623352182805e-05, 5.482660532682132e-05, 5.482117679822557e-05, 5.4816280022133016e-05, 5.48118629106307e-05, 5.480787847808675e-05, 5.480428434135529e-05, 5.480104226893925e-05, 5.4798117774314694e-05, 5.4795479749091554e-05, 5.47931001321076e-05, 5.479095361093685e-05, 5.4789017352636716e-05, 5.478727076086959e-05, 5.478569525681574e-05, 5.478427408154728e-05, 5.4782992117759953e-05, 5.478183572896797e-05, 5.478079261444981e-05, 5.47798516784035e-05, 5.477900291191822e-05, 5.4778237286507964e-05, 5.4777546658073654e-05, 5.477692368027285e-05, 5.477636172637553e-05, 5.477585481877412e-05, 5.477539756539878e-05, 5.477498510236076e-05, 5.477461304221442e-05, 5.4774277427287165e-05, 5.4773974687581024e-05, 5.4773701602797675e-05, 5.477345526808385e-05, 5.4773233063131544e-05, 5.477303262430563e-05, 5.477285181950134e-05, 5.4772688725464385e-05, 5.477254160733345e-05, 5.4772408900185674e-05, 5.477228919239063e-05, 5.477218121059436e-05, 5.477208380617454e-05, 5.477199594302232e-05, 5.477191668652112e-05, 5.47718451936049e-05, 5.477178070379018e-05, 5.477172253108702e-05, 5.477167005670153e-05, 5.477162272245397e-05, 5.4771580024841275e-05, 5.477154150968088e-05, 5.47715067672801e-05, 5.477147542807744e-05, 5.477144715871207e-05, 5.477142165847751e-05, 5.4771398656123054e-05, 5.4771377906968374e-05, 5.477135919030096e-05, 5.477134230702804e-05, 5.4771327077559225e-05, 5.477131333989578e-05, 5.477130094790764e-05, 5.477128976977896e-05, 5.477127968660588e-05, 5.4771270591131886e-05, 5.477126238660667e-05, 5.4771254985757147e-05, 5.477124830985926e-05, 5.4771242287900166e-05, 5.477123685582316e-05, 5.4771231955846194e-05, 5.477122753584738e-05, 5.477122354881038e-05, 5.477121995232428e-05, 5.4771216708132675e-05, 5.477121378172639e-05, 5.47712111419768e-05, 5.477120876080439e-05, 5.4771206612880086e-05, 5.4771204675356126e-05, 5.4771202927622705e-05, 5.4771201351088764e-05, 5.477119992898455e-05, 5.47711986461828e-05, 5.4771197489038145e-05, 5.4771196445241734e-05, 5.477119550369063e-05, 5.4771194654369366e-05, 5.4771193888243515e-05, 5.4771193197163604e-05, 5.477119257377863e-05, 5.477119201145734e-05, 5.477119150421843e-05, 5.4771191046666186e-05, 5.47711906339335e-05, 5.4771190261630155e-05, 5.4771189925795856e-05, 5.477118962285827e-05, 5.477118934959497e-05, 5.477118910309922e-05, 5.4771188880749e-05, 5.47711886801792e-05, 5.477118849925621e-05, 5.477118833605554e-05, 5.4771188188841254e-05, 5.477118805604736e-05, 5.477118793626131e-05, 5.477118782820891e-05, 5.477118773074084e-05, 5.477118764282027e-05, 5.4771187563511964e-05, 5.477118749197232e-05, 5.477118742744034e-05, 5.477118736922964e-05, 5.477118731672096e-05, 5.477118726935573e-05, 5.4771187226630224e-05, 5.477118718808989e-05, 5.477118715332478e-05, 5.477118712196506e-05, 5.477118709367724e-05, 5.4771187068160354e-05, 5.4771187045142946e-05, 5.4771187024380244e-05, 5.477118700565131e-05, 5.477118698875702e-05, 5.4771186973517596e-05, 5.477118695977095e-05, 5.477118694737083e-05, 5.4771186936185445e-05, 5.4771186926095684e-05, 5.4771186916994254e-05, 5.477118690878437e-05, 5.4771186901378666e-05, 5.477118689469839e-05, 5.477118688867249e-05, 5.47711868832369e-05, 5.47711868783337e-05, 5.477118687391081e-05, 5.4771186869921136e-05, 5.477118686632232e-05, 5.477118686307604e-05, 5.477118686014774e-05, 5.4771186857506215e-05, 5.47711868551235e-05, 5.477118685297417e-05, 5.477118685103539e-05, 5.477118684928651e-05, 5.4771186847708924e-05, 5.477118684628592e-05, 5.47711868450023e-05, 5.47711868438444e-05, 5.47711868427999e-05, 5.477118684185771e-05, 5.477118684100786e-05, 5.4771186840241244e-05, 5.477118683954967e-05, 5.477118683892588e-05, 5.477118683836318e-05, 5.477118683785562e-05, 5.4771186837397775e-05, 5.477118683698476e-05, 5.4771186836612216e-05, 5.4771186836276154e-05, 5.477118683597304e-05, 5.477118683569958e-05, 5.477118683545294e-05, 5.477118683523047e-05, 5.4771186835029755e-05, 5.47711868348487e-05, 5.477118683468537e-05, 5.477118683453809e-05, 5.477118683440519e-05, 5.477118683428535e-05, 5.477118683417721e-05, 5.477118683407971e-05, 5.4771186833991686e-05, 5.477118683391236e-05, 5.4771186833840765e-05, 5.477118683377616e-05, 5.477118683371794e-05, 5.477118683366541e-05, 5.4771186833618016e-05]\n"
     ]
    }
   ],
   "source": [
    "print(cost)"
   ]
  },
  {
   "cell_type": "code",
   "execution_count": 29,
   "metadata": {
    "colab": {
     "base_uri": "https://localhost:8080/"
    },
    "id": "aw5bKJMw0Osg",
    "outputId": "6fe85662-140a-48f1-d179-14a3a891da83"
   },
   "outputs": [
    {
     "name": "stdout",
     "output_type": "stream",
     "text": [
      "1.0873318282411331e-17\n"
     ]
    }
   ],
   "source": [
    "print(new_theta[0,0])"
   ]
  },
  {
   "cell_type": "code",
   "execution_count": 30,
   "metadata": {
    "id": "lWKbe6xEt_zR"
   },
   "outputs": [],
   "source": [
    "model_price=x*new_theta.T"
   ]
  },
  {
   "cell_type": "code",
   "execution_count": 31,
   "metadata": {
    "colab": {
     "base_uri": "https://localhost:8080/",
     "height": 421
    },
    "id": "gHy8EMgOtp59",
    "outputId": "ed28cfa2-b669-4909-bb1c-e5738addcb82"
   },
   "outputs": [
    {
     "data": {
      "text/plain": [
       "Text(0.5, 1.0, 'f vs t data')"
      ]
     },
     "execution_count": 31,
     "metadata": {},
     "output_type": "execute_result"
    },
    {
     "data": {
      "image/png": "[encoded data removed]",
      "text/plain": [
       "<Figure size 300x600 with 1 Axes>"
      ]
     },
     "metadata": {},
     "output_type": "display_data"
    }
   ],
   "source": [
    "fig,ax=plt.subplots(figsize=(3,6))\n",
    "ax.scatter(data.Size,data.Price,label='final')\n",
    "ax.plot(data.Size,model_price,'r',label='initial model')\n",
    "ax.legend()\n",
    "ax.set_xlabel('size')\n",
    "ax.set_ylabel('price')\n",
    "ax.set_title('f vs t data')"
   ]
  },
  {
   "cell_type": "code",
   "execution_count": 32,
   "metadata": {
    "colab": {
     "base_uri": "https://localhost:8080/",
     "height": 258
    },
    "id": "hReDFkhNuJaQ",
    "outputId": "6fb5d079-5ad6-493c-ede7-41cbdde7a874"
   },
   "outputs": [
    {
     "data": {
      "text/plain": [
       "Text(0.5, 1.0, 'err vs iterations')"
      ]
     },
     "execution_count": 32,
     "metadata": {},
     "output_type": "execute_result"
    },
    {
     "data": {
      "image/png": "[encoded data removed]",
      "text/plain": [
       "<Figure size 600x300 with 1 Axes>"
      ]
     },
     "metadata": {},
     "output_type": "display_data"
    }
   ],
   "source": [
    "fig,ax= plt.subplots(figsize=(6,3))\n",
    "ax.plot(np.arange(iters),cost,'g',label='learning curve')\n",
    "ax.legend()\n",
    "ax.set_xlabel('iteration')\n",
    "ax.set_ylabel('cost')\n",
    "ax.set_title('err vs iterations')"
   ]
  },
  {
   "cell_type": "code",
   "execution_count": 33,
   "metadata": {
    "colab": {
     "base_uri": "https://localhost:8080/"
    },
    "id": "0LEDjbitxMWh",
    "outputId": "d4633498-19b9-4740-ae8c-4f8a69c5b28f",
    "scrolled": true
   },
   "outputs": [
    {
     "name": "stdout",
     "output_type": "stream",
     "text": [
      "Error=0.94%\n",
      "Accuracy=99.06%\n"
     ]
    },
    {
     "name": "stderr",
     "output_type": "stream",
     "text": [
      "/opt/homebrew/lib/python3.10/site-packages/sklearn/utils/validation.py:727: FutureWarning: np.matrix usage is deprecated in 1.0 and will raise a TypeError in 1.2. Please convert to a numpy array with np.asarray. For more information see: https://numpy.org/doc/stable/reference/generated/numpy.matrix.html\n",
      "  warnings.warn(\n",
      "/opt/homebrew/lib/python3.10/site-packages/sklearn/utils/validation.py:727: FutureWarning: np.matrix usage is deprecated in 1.0 and will raise a TypeError in 1.2. Please convert to a numpy array with np.asarray. For more information see: https://numpy.org/doc/stable/reference/generated/numpy.matrix.html\n",
      "  warnings.warn(\n"
     ]
    }
   ],
   "source": [
    "from sklearn.metrics import mean_absolute_error\n",
    "\n",
    "Error=mean_absolute_error(model_price,y)\n",
    "Accuracy=1-Error\n",
    "\n",
    "print('Error={}%'.format((round(Error*100,2))))\n",
    "print('Accuracy={}%'.format((round(Accuracy*100,2))))"
   ]
  },
  {
   "cell_type": "code",
   "execution_count": 34,
   "metadata": {
    "id": "J26s1F8m2gIL"
   },
   "outputs": [],
   "source": [
    "def predict(new_theta,accuracy):\n",
    "  size=float(input(\"enter the size of the house in sqft:\"))\n",
    "  size=(size-raw_data.Size.mean())/(raw_data.Size.max()-raw_data.Size.min())\n",
    "  price=(new_theta[0,0]+(new_theta[0,1]*size))\n",
    "  Predicted_Price=(price*(raw_data.Price.max()-raw_data.Price.min()))+(raw_data.Price.mean())\n",
    "  price_at_max_accuracy =(Predicted_Price*(1/accuracy))\n",
    "  price_range=price_at_max_accuracy - Predicted_Price\n",
    "  return Predicted_Price,price_range"
   ]
  },
  {
   "cell_type": "code",
   "execution_count": 35,
   "metadata": {
    "colab": {
     "base_uri": "https://localhost:8080/"
    },
    "id": "c-kUA1MR8qzM",
    "outputId": "8d639aea-8919-46a0-d4c8-9fbe05c33b05"
   },
   "outputs": [
    {
     "name": "stdout",
     "output_type": "stream",
     "text": [
      "enter the size of the house in sqft:1500\n",
      "Your house cost is 51.28 Lakhs (+ or -) 48908.12\n"
     ]
    }
   ],
   "source": [
    "Predicted_Price,price_range=predict(new_theta,Accuracy)\n",
    "print('Your house cost is '+str(round(Predicted_Price*(1/100000), 2))+' Lakhs (+ or -) '+str(round(price_range, 2)))"
   ]
  }
 ],
 "metadata": {
  "colab": {
   "collapsed_sections": [],
   "provenance": []
  },
  "kernelspec": {
   "display_name": "Python 3 (ipykernel)",
   "language": "python",
   "name": "python3"
  },
  "language_info": {
   "codemirror_mode": {
    "name": "ipython",
    "version": 3
   },
   "file_extension": ".py",
   "mimetype": "text/x-python",
   "name": "python",
   "nbconvert_exporter": "python",
   "pygments_lexer": "ipython3",
   "version": "3.10.6"
  }
 },
 "nbformat": 4,
 "nbformat_minor": 1
}
